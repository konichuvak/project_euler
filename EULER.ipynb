{
 "cells": [
  {
   "cell_type": "code",
   "execution_count": 1,
   "metadata": {
    "pycharm": {
     "is_executing": false
    }
   },
   "outputs": [],
   "source": [
    "from tqdm import tqdm\n",
    "\n",
    "from arsenal import *"
   ]
  },
  {
   "cell_type": "markdown",
   "metadata": {},
   "source": [
    "# Problem 7: 10001st prime\n",
    "By listing the first six prime numbers: 2, 3, 5, 7, 11, and 13, we can see that the 6th prime is 13.\n",
    "\n",
    "What is the 10 001st prime number?"
   ]
  },
  {
   "cell_type": "code",
   "execution_count": 2,
   "metadata": {},
   "outputs": [
    {
     "data": {
      "text/plain": [
       "104743"
      ]
     },
     "execution_count": 2,
     "metadata": {},
     "output_type": "execute_result"
    }
   ],
   "source": [
    "primesfrom2to(1000000)[10000]"
   ]
  },
  {
   "cell_type": "markdown",
   "metadata": {},
   "source": [
    "# Problem 10: Summation of primes\n",
    "The sum of the primes below 10 is 2 + 3 + 5 + 7 = 17.\n",
    "\n",
    "Find the sum of all the primes below two million."
   ]
  },
  {
   "cell_type": "code",
   "execution_count": 3,
   "metadata": {},
   "outputs": [
    {
     "data": {
      "text/plain": [
       "142913828922"
      ]
     },
     "execution_count": 3,
     "metadata": {},
     "output_type": "execute_result"
    }
   ],
   "source": [
    "np.sum(primesfrom2to(2000000))"
   ]
  },
  {
   "cell_type": "markdown",
   "metadata": {},
   "source": [
    "# Problem 16: Power digit sum\n",
    "2^15 = 32768 and the sum of its digits is 3 + 2 + 7 + 6 + 8 = 26.\n",
    "\n",
    "What is the sum of the digits of the number 2^1000?"
   ]
  },
  {
   "cell_type": "code",
   "execution_count": 26,
   "metadata": {},
   "outputs": [
    {
     "data": {
      "text/plain": [
       "1366"
      ]
     },
     "execution_count": 26,
     "metadata": {},
     "output_type": "execute_result"
    }
   ],
   "source": [
    "s = 0\n",
    "for d in str(2**1000):\n",
    "    s += int(d)\n",
    "s"
   ]
  },
  {
   "cell_type": "markdown",
   "metadata": {},
   "source": [
    "# Problem 20: Factorial digit sum\n",
    "n! means n × (n − 1) × ... × 3 × 2 × 1\n",
    "\n",
    "For example, 10! = 10 × 9 × ... × 3 × 2 × 1 = 3628800,\n",
    "and the sum of the digits in the number 10! is 3 + 6 + 2 + 8 + 8 + 0 + 0 = 27.\n",
    "\n",
    "Find the sum of the digits in the number 100!"
   ]
  },
  {
   "cell_type": "code",
   "execution_count": 27,
   "metadata": {},
   "outputs": [
    {
     "data": {
      "text/plain": [
       "0"
      ]
     },
     "execution_count": 27,
     "metadata": {},
     "output_type": "execute_result"
    }
   ],
   "source": [
    "def fact(n):\n",
    "    return 1 if n == 0 else n*fact(n-1)\n",
    "\n",
    "s = 0\n",
    "for digit in str(fact(100)):\n",
    "    s += int(digit)\n",
    "s"
   ]
  },
  {
   "cell_type": "markdown",
   "metadata": {},
   "source": [
    "# Problem 21: Amicable numbers\n",
    "Let d(n) be defined as the sum of proper divisors of n (numbers less than n which divide evenly into n).\n",
    "If d(a) = b and d(b) = a, where a ≠ b, then a and b are an amicable pair and each of a and b are called amicable numbers.\n",
    "\n",
    "For example, the proper divisors of 220 are 1, 2, 4, 5, 10, 11, 20, 22, 44, 55 and 110; therefore d(220) = 284. The proper divisors of 284 are 1, 2, 4, 71 and 142; so d(284) = 220.\n",
    "\n",
    "Evaluate the sum of all the amicable numbers under 10000."
   ]
  },
  {
   "cell_type": "code",
   "execution_count": 6,
   "metadata": {},
   "outputs": [
    {
     "name": "stderr",
     "output_type": "stream",
     "text": [
      "100%|██████████| 9998/9998 [00:13<00:00, 744.83it/s]\n"
     ]
    },
    {
     "data": {
      "text/plain": [
       "31626"
      ]
     },
     "execution_count": 6,
     "metadata": {},
     "output_type": "execute_result"
    }
   ],
   "source": [
    "def divs(n, proper_sum = 0):\n",
    "    for i in range(1,n):\n",
    "        if n % i == 0:\n",
    "            proper_sum += i\n",
    "    return proper_sum\n",
    "\n",
    "amicable = 0\n",
    "for a in tqdm(range(2,10000)):\n",
    "    b = divs(a)\n",
    "    if divs(b) == a and a != b:\n",
    "        amicable += a\n",
    "amicable"
   ]
  },
  {
   "cell_type": "markdown",
   "metadata": {},
   "source": [
    "# Problem 22: Names scores\n",
    "Using names.txt (right click and 'Save Link/Target As...'), a 46K text file containing over five-thousand first names, begin by sorting it into alphabetical order. Then working out the alphabetical value for each name, multiply this value by its alphabetical position in the list to obtain a name score.\n",
    "\n",
    "For example, when the list is sorted into alphabetical order, COLIN, which is worth 3 + 15 + 12 + 9 + 14 = 53, is the 938th name in the list. So, COLIN would obtain a score of 938 × 53 = 49714.\n",
    "\n",
    "What is the total of all the name scores in the file?"
   ]
  },
  {
   "cell_type": "code",
   "execution_count": 14,
   "metadata": {},
   "outputs": [
    {
     "data": {
      "text/plain": [
       "871198282"
      ]
     },
     "execution_count": 14,
     "metadata": {},
     "output_type": "execute_result"
    }
   ],
   "source": [
    "import string\n",
    "alphabet = dict(zip(string.ascii_uppercase, [i for i in range(1, len(string.ascii_uppercase) + 1)]))\n",
    "with open('supplementary_files/p022_names.txt', 'r') as f:\n",
    "    names = eval(f.read())\n",
    "    \n",
    "def alphabetic_value(name):\n",
    "    return sum((alphabet[letter] for letter in name))\n",
    "\n",
    "total = 0\n",
    "for i, name in enumerate(sorted(names)):\n",
    "    total += (i+1) * alphabetic_value(name)\n",
    "total"
   ]
  },
  {
   "cell_type": "markdown",
   "metadata": {},
   "source": [
    "# Problem 23: Non-abundant sums\n",
    "A perfect number is a number for which the sum of its proper divisors is exactly equal to the number. For example, the sum of the proper divisors of 28 would be 1 + 2 + 4 + 7 + 14 = 28, which means that 28 is a perfect number.\n",
    "\n",
    "A number n is called deficient if the sum of its proper divisors is less than n and it is called abundant if this sum exceeds n.\n",
    "\n",
    "As 12 is the smallest abundant number, 1 + 2 + 3 + 4 + 6 = 16, the smallest number that can be written as the sum of two abundant numbers is 24. By mathematical analysis, it can be shown that all integers greater than 28123 can be written as the sum of two abundant numbers. However, this upper limit cannot be reduced any further by analysis even though it is known that the greatest number that cannot be expressed as the sum of two abundant numbers is less than this limit.\n",
    "\n",
    "Find the sum of all the positive integers which cannot be written as the sum of two abundant numbers.\n"
   ]
  },
  {
   "cell_type": "markdown",
   "metadata": {},
   "source": [
    "Let us find all the abundant numbers less than 28123 - 12. Then for integers in (25, 28123) check whether they can be written as the sum of any two abundunt numbers."
   ]
  },
  {
   "cell_type": "code",
   "execution_count": 61,
   "metadata": {},
   "outputs": [
    {
     "name": "stderr",
     "output_type": "stream",
     "text": [
      "100%|██████████| 28123/28123 [00:03<00:00, 7955.87it/s] \n"
     ]
    },
    {
     "data": {
      "text/plain": [
       "4179871"
      ]
     },
     "execution_count": 61,
     "metadata": {},
     "output_type": "execute_result"
    }
   ],
   "source": [
    "answer = 0\n",
    "abundant = set(filter(lambda n: sum(divisors(n)) - n > n, list(range(12, 28124-12))))\n",
    "for i in tqdm(range(1, 28124)):\n",
    "    for abund_num in abundant:\n",
    "        if i - abund_num in abundant:\n",
    "            break\n",
    "    else:\n",
    "        answer += i   \n",
    "answer"
   ]
  },
  {
   "cell_type": "markdown",
   "metadata": {},
   "source": [
    "# Problem 30: Digit fifth powers\n",
    "Surprisingly there are only three numbers that can be written as the sum of fourth powers of their digits:\n",
    "\n",
    "$$ 1634 = 1^4 + 6^4 + 3^4 + 4^4$$\n",
    "$$ 8208 = 8^4 + 2^4 + 0^4 + 8^4$$\n",
    "$$ 9474 = 9^4 + 4^4 + 7^4 + 4^4$$\n",
    "\n",
    "As $1 = 1^4$ is not a sum it is not included.\n",
    "\n",
    "The sum of these numbers is $1634 + 8208 + 9474 = 19316.$\n",
    "\n",
    "Find the sum of all the numbers that can be written as the sum of fifth powers of their digits."
   ]
  },
  {
   "cell_type": "code",
   "execution_count": 55,
   "metadata": {},
   "outputs": [
    {
     "name": "stderr",
     "output_type": "stream",
     "text": [
      "\n",
      "  0%|          | 0/354292 [00:00<?, ?it/s]\u001b[A\n",
      "  6%|▋         | 22228/354292 [00:00<00:01, 222279.68it/s]\u001b[A\n",
      " 10%|▉         | 34185/354292 [00:00<00:01, 176667.48it/s]\u001b[A\n",
      " 14%|█▍        | 51088/354292 [00:00<00:01, 174301.96it/s]\u001b[A\n",
      " 21%|██        | 73064/354292 [00:00<00:01, 185833.10it/s]\u001b[A\n",
      " 27%|██▋       | 95595/354292 [00:00<00:01, 196142.13it/s]\u001b[A\n",
      " 34%|███▍      | 120788/354292 [00:00<00:01, 210098.51it/s]\u001b[A\n",
      " 42%|████▏     | 148016/354292 [00:00<00:00, 225550.34it/s]\u001b[A\n",
      " 49%|████▉     | 174295/354292 [00:00<00:00, 235563.53it/s]\u001b[A\n",
      " 56%|█████▌    | 198971/354292 [00:00<00:00, 238812.39it/s]\u001b[A\n",
      " 63%|██████▎   | 222939/354292 [00:01<00:00, 239068.33it/s]\u001b[A\n",
      " 70%|██████▉   | 246596/354292 [00:01<00:00, 238124.82it/s]\u001b[A\n",
      " 77%|███████▋  | 273060/354292 [00:01<00:00, 245504.09it/s]\u001b[A\n",
      " 84%|████████▍ | 297546/354292 [00:01<00:00, 239568.29it/s]\u001b[A\n",
      " 91%|█████████ | 321490/354292 [00:01<00:00, 222461.80it/s]\u001b[A\n",
      " 97%|█████████▋| 343971/354292 [00:01<00:00, 210199.21it/s]\u001b[A\n",
      "100%|██████████| 354292/354292 [00:01<00:00, 214345.30it/s]\u001b[A"
     ]
    },
    {
     "data": {
      "text/plain": [
       "([4150, 4151, 54748, 92727, 93084, 194979], 443839)"
      ]
     },
     "execution_count": 55,
     "metadata": {},
     "output_type": "execute_result"
    }
   ],
   "source": [
    "powers = dict(zip([f'{i}' for i in range(10)], [i**5 for i in range(10)]))\n",
    "\n",
    "@memo()\n",
    "def sum_of_powers(n: int):\n",
    "    return sum(map(lambda x: powers[x], str(n)))\n",
    "\n",
    "answer = list()\n",
    "upper_bound = min(list(filter(lambda x: x[1] < int('9'*x[0]) ,[(k, k*9**5) for k in range(1, 10)])))[1]\n",
    "for i in tqdm(range(2, upper_bound)):\n",
    "    s = sum_of_powers(i)\n",
    "    if i == s:\n",
    "        answer.append(i)\n",
    "answer, sum(answer)"
   ]
  },
  {
   "cell_type": "markdown",
   "metadata": {},
   "source": [
    "# Problem 41: Pandigital prime\n",
    "We shall say that an n-digit number is pandigital if it makes use of all the digits 1 to n exactly once. For example, 2143 is a 4-digit pandigital and is also prime.\n",
    "\n",
    "What is the largest n-digit pandigital prime that exists?"
   ]
  },
  {
   "cell_type": "code",
   "execution_count": 46,
   "metadata": {},
   "outputs": [
    {
     "name": "stdout",
     "output_type": "stream",
     "text": [
      "7652413\n"
     ]
    }
   ],
   "source": [
    "def join(nums):\n",
    "    \"\"\" Converts list to int \"\"\"\n",
    "    return int(''.join(map(str, nums)))\n",
    "\n",
    "for j in reversed(range(1,9)): \n",
    "    permutations = itertools.permutations(reversed(range(1,j)))\n",
    "    for d in permutations:\n",
    "        i = join(d)         \n",
    "        if is_prime(i):\n",
    "            print(i)\n",
    "            break\n",
    "    break"
   ]
  },
  {
   "cell_type": "markdown",
   "metadata": {},
   "source": [
    "Generates pandigital numbers starting from 7654321 in a descending order and simply checks if they are prime\n",
    "\n",
    "8 digits doesn't work, because 1+2+3+4+5+6+7+8 = 36 which is divible by 3. Similarly, 9 digits won't work because the sum of the digits is 45 => a multiple of 3.\n",
    "\n",
    "https://artofproblemsolving.com/wiki/index.php?title=Divisibility_rules/Rule_for_3_and_9_proof"
   ]
  },
  {
   "cell_type": "markdown",
   "metadata": {},
   "source": [
    "# Problem 43: Sub-string divisibility\n",
    "\n",
    "The number, 1406357289, is a 0 to 9 pandigital number because it is made up of each of the digits 0 to 9 in some order, but it also has a rather interesting sub-string divisibility property.\n",
    "\n",
    "Let d1 be the 1st digit, d2 be the 2nd digit, and so on. In this way, we note the following:\n",
    "\n",
    "- d2d3d4=406 is divisible by 2\n",
    "- d3d4d5=063 is divisible by 3\n",
    "- d4d5d6=635 is divisible by 5\n",
    "- d5d6d7=357 is divisible by 7\n",
    "- d6d7d8=572 is divisible by 11\n",
    "- d7d8d9=728 is divisible by 13\n",
    "- d8d9d10=289 is divisible by 17\n",
    "\n",
    "Find the sum of all 0 to 9 pandigital numbers with this property."
   ]
  },
  {
   "cell_type": "code",
   "execution_count": 17,
   "metadata": {},
   "outputs": [
    {
     "name": "stderr",
     "output_type": "stream",
     "text": [
      "3628800it [01:36, 37535.81it/s]\n"
     ]
    },
    {
     "data": {
      "text/plain": [
       "16695334890"
      ]
     },
     "execution_count": 17,
     "metadata": {},
     "output_type": "execute_result"
    }
   ],
   "source": [
    "def combine_digits(collection, start, end):\n",
    "    \"\"\" Flattens a list of integers into one int \"\"\"\n",
    "    s = map(str, collection[start : end])\n",
    "    i = int(''.join(s))\n",
    "    return i\n",
    "\n",
    "# create an list of all the possible pandigital numbers\n",
    "pandigital = collection_permutation(range(10), 10)\n",
    "\n",
    "s = 0\n",
    "for number in tqdm(pandigital):\n",
    "    i = combine_digits(number, 7, 10)\n",
    "    if i % 17 == 0:\n",
    "        i = combine_digits(number, 6, 9)\n",
    "        if i % 13 == 0:\n",
    "            i = combine_digits(number, 5, 8)\n",
    "            if i % 11 == 0:\n",
    "                i = combine_digits(number, 4, 7)\n",
    "                if i % 7 == 0:\n",
    "                    i = combine_digits(number, 3, 6)\n",
    "                    if i % 5 == 0:\n",
    "                        i = combine_digits(number, 2, 5)\n",
    "                        if i % 3 == 0:\n",
    "                            i = combine_digits(number, 1, 4)\n",
    "                            if i % 2 == 0:\n",
    "                                s = s + combine_digits(number, 0, 10) \n",
    "s"
   ]
  },
  {
   "cell_type": "markdown",
   "metadata": {},
   "source": [
    "# Problem 45: Triangular, pentagonal, and hexagonal\n",
    "Triangle, pentagonal, and hexagonal numbers are generated by the following formulae:\n",
    "\n",
    "- Triangle  \n",
    "    Tn=n(n+1)/2\n",
    "    1, 3, 6, 10, 15, ...\n",
    "- Pentagonal     \n",
    "    Pn=n(3n−1)/2\n",
    "    1, 5, 12, 22, 35, ...\n",
    "- Hexagonal       \n",
    "    Hn=n(2n−1)\n",
    "    1, 6, 15, 28, 45, ...\n",
    "- \n",
    "\n",
    "It can be verified that T_285 = P_165 = H_143 = 40755.\n",
    "\n",
    "Find the next triangle number that is also pentagonal and hexagonal."
   ]
  },
  {
   "cell_type": "code",
   "execution_count": 55,
   "metadata": {},
   "outputs": [
    {
     "name": "stdout",
     "output_type": "stream",
     "text": [
      "55385 31977 27694\n",
      "1533776805 1533776805 1533776805\n"
     ]
    }
   ],
   "source": [
    "t = 285+1\n",
    "p = 165+1\n",
    "h = 143+1\n",
    "\n",
    "def triangle(n):\n",
    "    return int(n*(n+1)/2)\n",
    "\n",
    "def pentagonal(n):\n",
    "    return int(n*(3*n-1)/2)\n",
    "\n",
    "def hexagonal(n):\n",
    "    return int(n*(2*n-1))\n",
    "\n",
    "while True:     \n",
    "    H = hexagonal(h)\n",
    "    h += 1\n",
    "    \n",
    "    while H > pentagonal(p):\n",
    "        p += 1\n",
    "    P = pentagonal(p)\n",
    "    \n",
    "    while P > triangle(t):\n",
    "        t += 1\n",
    "    T = triangle(t)\n",
    "    \n",
    "    if H == P == T:\n",
    "        print(t,p,h)\n",
    "        print(H,P,T)\n",
    "        break\n",
    "        "
   ]
  },
  {
   "cell_type": "markdown",
   "metadata": {},
   "source": [
    "# Problem 48: Self Powers\n",
    "The series, 1^1 + 2^2 + 3^3 + ... + 10^10 = 10405071317.\n",
    "\n",
    "Find the last ten digits of the series, 1^1 + 2^2 + 3^3 + ... + 1000^1000."
   ]
  },
  {
   "cell_type": "code",
   "execution_count": 18,
   "metadata": {
    "pycharm": {
     "is_executing": false
    }
   },
   "outputs": [
    {
     "name": "stderr",
     "output_type": "stream",
     "text": [
      "100%|██████████| 1000/1000 [00:00<00:00, 35125.82it/s]\n"
     ]
    },
    {
     "data": {
      "text/plain": [
       "'9110846700'"
      ]
     },
     "execution_count": 18,
     "metadata": {},
     "output_type": "execute_result"
    }
   ],
   "source": [
    "sum_ = 0\n",
    "for i in tqdm(range(1,1001)):\n",
    "    sum_ += i**i\n",
    "str(sum_)[-10:]"
   ]
  },
  {
   "cell_type": "markdown",
   "metadata": {},
   "source": [
    "# Problem 49: Prime permutations\n",
    "The arithmetic sequence, 1487, 4817, 8147, in which each of the terms increases by 3330, is unusual in two ways: (i) each of the three terms are prime, and, (ii) each of the 4-digit numbers are permutations of one another.\n",
    "\n",
    "There are no arithmetic sequences made up of three 1-, 2-, or 3-digit primes, exhibiting this property, but there is one other 4-digit increasing sequence.\n",
    "\n",
    "What 12-digit number do you form by concatenating the three terms in this sequence?"
   ]
  },
  {
   "cell_type": "code",
   "execution_count": 69,
   "metadata": {},
   "outputs": [
    {
     "name": "stderr",
     "output_type": "stream",
     "text": [
      "100%|██████████| 2340/2340 [00:00<00:00, 105920.20it/s]"
     ]
    },
    {
     "name": "stdout",
     "output_type": "stream",
     "text": [
      "[1487, 4817, 8147]\n",
      "[2969, 6299, 9629]\n"
     ]
    },
    {
     "name": "stderr",
     "output_type": "stream",
     "text": [
      "\n"
     ]
    }
   ],
   "source": [
    "def join(nums):\n",
    "    \"\"\" Converts list to int \"\"\"\n",
    "    return int(''.join(map(str, nums)))\n",
    "\n",
    "for i in tqdm(range(1000,10000 - 3330*2)):\n",
    "    if is_prime(i):\n",
    "        if is_prime(i + 3330):\n",
    "            if is_prime(i + 3330*2):\n",
    "                permutations = itertools.permutations(str(i))\n",
    "                perm = [join(p) for p in permutations]\n",
    "                if i + 3300 and i + 3330*2 in perm:\n",
    "                    print([i, i + 3330, i + 3330*2])"
   ]
  },
  {
   "cell_type": "markdown",
   "metadata": {},
   "source": [
    "# Problem 53: Combinatoric selections\n",
    "\n",
    "\n",
    "There are exactly ten ways of selecting three from five, 12345:\n",
    "\n",
    "123, 124, 125, 134, 135, 145, 234, 235, 245, and 345\n",
    "\n",
    "In combinatorics, we use the notation, 5C3=10.\n",
    "\n",
    "In general, nCr=n!r!(n−r)!, where r≤n, n!=n×(n−1)×...×3×2×1, and 0!=1.\n",
    "\n",
    "It is not until n=23, that a value exceeds one-million: 23C10=1144066.\n",
    "\n",
    "How many, not necessarily distinct, values of nCr for 1≤n≤100, are greater than one-million?"
   ]
  },
  {
   "cell_type": "code",
   "execution_count": 18,
   "metadata": {},
   "outputs": [
    {
     "name": "stderr",
     "output_type": "stream",
     "text": [
      "\n",
      "  0%|          | 0/77 [00:00<?, ?it/s]\u001b[A\n",
      "100%|██████████| 77/77 [00:00<00:00, 35548.86it/s]\u001b[A"
     ]
    },
    {
     "data": {
      "text/plain": [
       "4075"
      ]
     },
     "execution_count": 18,
     "metadata": {},
     "output_type": "execute_result"
    }
   ],
   "source": [
    "# Use Pascal's triangle\n",
    "total = count = 4\n",
    "j = 10\n",
    "for i in tqdm(range(23, 100)):\n",
    "#     print(i, j, nCr(i, j), total, count)\n",
    "    if nCr(i+1, j-1) < 1e+6:\n",
    "        count += 1\n",
    "        total += count\n",
    "        continue\n",
    "    else:\n",
    "        count += 3\n",
    "        j-=1\n",
    "        total += count\n",
    "total"
   ]
  },
  {
   "cell_type": "markdown",
   "metadata": {},
   "source": [
    "# Problem 76: Counting summations\n",
    "\n",
    "It is possible to write five as a sum in exactly six different ways.\n",
    "\n",
    "How many different ways can one hundred be written as a sum of at least two positive integers?"
   ]
  },
  {
   "cell_type": "code",
   "execution_count": 70,
   "metadata": {},
   "outputs": [
    {
     "data": {
      "text/plain": [
       "190569292"
      ]
     },
     "execution_count": 70,
     "metadata": {},
     "output_type": "execute_result"
    }
   ],
   "source": [
    "part(100)"
   ]
  },
  {
   "cell_type": "markdown",
   "metadata": {},
   "source": [
    "# Problem 77: Prime summations\n",
    "\n",
    "It is possible to write ten as the sum of primes in exactly five different ways.\n",
    "\n",
    "What is the first value which can be written as the sum of primes in over five thousand different ways?"
   ]
  },
  {
   "cell_type": "code",
   "execution_count": 71,
   "metadata": {},
   "outputs": [],
   "source": [
    "@memo(generator=True)\n",
    "def prime_partitions(n, I=1):\n",
    "    yield (n,)\n",
    "    for i in range(I, n // 2 + 1):\n",
    "        if not is_prime(i):\n",
    "            continue\n",
    "        for p in prime_partitions(n - i, i):\n",
    "            if not is_prime(p[0]):\n",
    "                continue\n",
    "            yield (i,) + p"
   ]
  },
  {
   "cell_type": "code",
   "execution_count": 76,
   "metadata": {},
   "outputs": [
    {
     "data": {
      "text/plain": [
       "71"
      ]
     },
     "execution_count": 76,
     "metadata": {},
     "output_type": "execute_result"
    },
    {
     "name": "stderr",
     "output_type": "stream",
     "text": [
      "\n",
      "\n",
      "16197it [00:24, 1798.14it/s]\u001b[A\u001b[A"
     ]
    }
   ],
   "source": [
    "n = 1\n",
    "while len(list(prime_partitions(n))[1:]) < 5001:\n",
    "    n += 1\n",
    "n"
   ]
  },
  {
   "cell_type": "markdown",
   "metadata": {},
   "source": [
    "# Problem 78: Coin partitions\n",
    "Let p(n) represent the number of different ways in which n coins can be separated into piles. For example, five coins can be separated into piles in exactly seven different ways, so p(5)=7.\n",
    "\n",
    "Find the least value of n for which p(n) is divisible by one million."
   ]
  },
  {
   "cell_type": "code",
   "execution_count": 6,
   "metadata": {},
   "outputs": [
    {
     "name": "stderr",
     "output_type": "stream",
     "text": [
      "55263it [00:33, 1224.31it/s]"
     ]
    },
    {
     "data": {
      "text/plain": [
       "55374"
      ]
     },
     "execution_count": 6,
     "metadata": {},
     "output_type": "execute_result"
    }
   ],
   "source": [
    "n = 1\n",
    "pbar = tqdm(total=100, initial=n)    \n",
    "while part(n) % int(10e+5) != 0:\n",
    "    pbar.update(1)\n",
    "    n += 1\n",
    "n"
   ]
  },
  {
   "cell_type": "markdown",
   "metadata": {},
   "source": [
    "# Problem 79: Passcode derivation\n",
    "\n",
    "A common security method used for online banking is to ask the user for three random characters from a passcode. For example, if the passcode was 531278, they may ask for the 2nd, 3rd, and 5th characters; the expected reply would be: 317.\n",
    "\n",
    "The text file, keylog.txt, contains fifty successful login attempts.\n",
    "\n",
    "Given that the three characters are always asked for in order, analyse the file so as to determine the shortest possible secret passcode of unknown length."
   ]
  },
  {
   "cell_type": "code",
   "execution_count": 7,
   "metadata": {},
   "outputs": [],
   "source": [
    "with open('p079_keylog.txt', 'r') as f:\n",
    "    attempts = f.read().split('\\n')[:-1]"
   ]
  },
  {
   "cell_type": "code",
   "execution_count": 11,
   "metadata": {},
   "outputs": [],
   "source": [
    "neighbours = dict(zip([str(i) for i in range(10)], [set() for _ in range(10)]))\n",
    "for a in attempts:\n",
    "    for i in range(1, len(a)):\n",
    "        for j in range(i):\n",
    "            neighbours[a[i]].add(a[j])"
   ]
  },
  {
   "cell_type": "code",
   "execution_count": 12,
   "metadata": {},
   "outputs": [
    {
     "data": {
      "text/plain": [
       "{'0': {'1', '2', '3', '6', '7', '8', '9'},\n",
       " '1': {'3', '7'},\n",
       " '2': {'1', '3', '6', '7'},\n",
       " '3': {'7'},\n",
       " '4': set(),\n",
       " '5': set(),\n",
       " '6': {'1', '3', '7'},\n",
       " '7': set(),\n",
       " '8': {'1', '2', '3', '6', '7'},\n",
       " '9': {'1', '2', '3', '6', '7', '8'}}"
      ]
     },
     "execution_count": 12,
     "metadata": {},
     "output_type": "execute_result"
    }
   ],
   "source": [
    "neighbours"
   ]
  },
  {
   "cell_type": "code",
   "execution_count": 13,
   "metadata": {},
   "outputs": [
    {
     "data": {
      "text/plain": [
       "[('4', set()),\n",
       " ('5', set()),\n",
       " ('7', set()),\n",
       " ('3', {'7'}),\n",
       " ('1', {'3', '7'}),\n",
       " ('6', {'1', '3', '7'}),\n",
       " ('2', {'1', '3', '6', '7'}),\n",
       " ('8', {'1', '2', '3', '6', '7'}),\n",
       " ('9', {'1', '2', '3', '6', '7', '8'}),\n",
       " ('0', {'1', '2', '3', '6', '7', '8', '9'})]"
      ]
     },
     "execution_count": 13,
     "metadata": {},
     "output_type": "execute_result"
    }
   ],
   "source": [
    "password = sorted(neighbours.items(), key = lambda kv: len(kv[1]))\n",
    "password"
   ]
  },
  {
   "cell_type": "code",
   "execution_count": 14,
   "metadata": {},
   "outputs": [
    {
     "data": {
      "text/plain": [
       "73162890"
      ]
     },
     "execution_count": 14,
     "metadata": {},
     "output_type": "execute_result"
    }
   ],
   "source": [
    "int(''.join([digit[0] for digit in password])[2:])"
   ]
  },
  {
   "cell_type": "markdown",
   "metadata": {},
   "source": [
    "#### An awesome solution from ThomasL using topological sort"
   ]
  },
  {
   "cell_type": "code",
   "execution_count": 76,
   "metadata": {},
   "outputs": [
    {
     "name": "stdout",
     "output_type": "stream",
     "text": [
      "73162890"
     ]
    }
   ],
   "source": [
    "import networkx as nx\n",
    "\n",
    "edges = list()\n",
    "with open('p079_keylog.txt', 'r') as txtin:\n",
    "    for digit1, digit2, digit3 in [list(line.strip()) for line in txtin]:\n",
    "        edges.append((digit1, digit2))\n",
    "        edges.append((digit2, digit3))\n",
    "graph = nx.DiGraph()\n",
    "graph.add_edges_from(edges)\n",
    "\n",
    "for node in nx.topological_sort(graph):\n",
    "    print(node, end='')"
   ]
  },
  {
   "cell_type": "markdown",
   "metadata": {},
   "source": [
    "# Problem 80: Square root digital expansion\n",
    "It is well known that if the square root of a natural number is not an integer, then it is irrational. The decimal expansion of such square roots is infinite without any repeating pattern at all.\n",
    "\n",
    "The square root of two is 1.41421356237309504880..., and the digital sum of the first one hundred decimal digits is 475.\n",
    "\n",
    "For the first one hundred natural numbers, find the total of the digital sums of the first one hundred decimal digits for all the irrational square roots."
   ]
  },
  {
   "cell_type": "code",
   "execution_count": null,
   "metadata": {
    "pycharm": {
     "is_executing": true
    }
   },
   "outputs": [],
   "source": [
    "from decimal import Decimal\n",
    "getcontext().prec = 105\n",
    "\n",
    "result = 0\n",
    "for i in tqdm(range(1,100)):\n",
    "    temp = sum(map(int, str(int(Decimal(i).sqrt()*10**99))))\n",
    "    if temp > 9:\n",
    "        result += temp\n",
    "result"
   ]
  },
  {
   "cell_type": "markdown",
   "metadata": {},
   "source": [
    "# Problem 81: Path sum: two ways\n",
    "In the 5 by 5 matrix below, the minimal path sum from the top left to the bottom right, by only moving to the right and down, is indicated in bold red and is equal to 2427.\n",
    "\n",
    "Find the minimal path sum, in matrix.txt (right click and \"Save Link/Target As...\"), a 31K text file containing a 80 by 80 matrix, from the top left to the bottom right by only moving right and down."
   ]
  },
  {
   "cell_type": "code",
   "execution_count": 3,
   "metadata": {},
   "outputs": [],
   "source": [
    "with open('supplementary_files/p081_matrix.txt', 'r') as f:\n",
    "    mat = np.array([row.split(',') for row in f.read().split()], dtype=np.int64)\n",
    "mat = -mat / 10000"
   ]
  },
  {
   "cell_type": "code",
   "execution_count": 4,
   "metadata": {},
   "outputs": [
    {
     "name": "stderr",
     "output_type": "stream",
     "text": [
      "100%|██████████| 80/80 [00:00<00:00, 352.95it/s]\n",
      "100%|██████████| 80/80 [00:00<00:00, 448.99it/s]\n"
     ]
    },
    {
     "data": {
      "text/plain": [
       "427337"
      ]
     },
     "execution_count": 4,
     "metadata": {},
     "output_type": "execute_result"
    }
   ],
   "source": [
    "from path_sums import GridWorld\n",
    "rewards = {(i, j): mat[i, j] for i in range(mat.shape[0]) for j in range(mat.shape[1])}\n",
    "gw = GridWorld(grid_dim=mat.shape[0], width=mat.shape[0], height=mat.shape[0], gamma=1, actions=[(0, 1), (1, 0)],\n",
    "               other_rewards=rewards)\n",
    "state_values = gw.gridworld_policy_iteration(in_place=True, theta=1e-6)[-1]\n",
    "optimal_policy = gw.compute_optimal_policy(state_values)\n",
    "opt_path, total_reward = gw.traverse(optimal_policy)\n",
    "-1 * int(round(total_reward*10000))"
   ]
  },
  {
   "cell_type": "markdown",
   "metadata": {},
   "source": [
    "# Problem 82: Path sum: three ways"
   ]
  },
  {
   "cell_type": "code",
   "execution_count": 6,
   "metadata": {},
   "outputs": [],
   "source": [
    "with open('supplementary_files/p082_matrix.txt', 'r') as f:\n",
    "    mat = np.array([row.split(',') for row in f.read().split()], dtype=np.int64)\n",
    "mat = -mat / 10000"
   ]
  },
  {
   "cell_type": "code",
   "execution_count": null,
   "metadata": {},
   "outputs": [],
   "source": [
    "# TODO: rewrite as q-learning, but check for bounds\n",
    "rewards = {(i, j): mat[i, j] for i in range(mat.shape[0]) for j in range(mat.shape[1])}\n",
    "gw = GridWorld(\n",
    "    grid_dim=mat.shape[0], width=mat.shape[0], height=mat.shape[0],\n",
    "    gamma=0.8, actions=[(0, 1), (1, 0), (-1, 0)], other_rewards=rewards\n",
    ")\n",
    "gw.is_terminal = lambda x, y: y == gw.grid_dim - 1\n",
    "state_values, policies = gw.policy_iteration(in_place=True, value_iteration=False)\n",
    "print(policies[-1], state_values[-1])\n",
    "# optimal_policy = gw.compute_optimal_policy(state_values)\n",
    "\n",
    "rewards = list()\n",
    "for x in range(mat.shape[0] - 1):\n",
    "    opt_path, total_reward = gw.traverse(policies[-1], start_state=(x, 0))\n",
    "    print(x, total_reward)\n",
    "    rewards.append(total_reward)\n",
    "    print()\n",
    "print(max(rewards))"
   ]
  },
  {
   "cell_type": "markdown",
   "metadata": {},
   "source": [
    "# Problem 83: Path sum: four ways"
   ]
  },
  {
   "cell_type": "code",
   "execution_count": 5,
   "metadata": {},
   "outputs": [],
   "source": [
    "with open('supplementary_files/p082_matrix.txt', 'r') as f:\n",
    "    mat = np.array([row.split(',') for row in f.read().split()], dtype=np.int64)\n",
    "mat = -mat / 1000000"
   ]
  },
  {
   "cell_type": "code",
   "execution_count": null,
   "metadata": {},
   "outputs": [],
   "source": [
    "from path_sums import GridWorld\n",
    "rewards = {(i, j): mat[i, j] for i in range(mat.shape[0]) for j in range(mat.shape[1])}\n",
    "gw = GridWorld(\n",
    "    grid_dim=mat.shape[0], width=mat.shape[0], height=mat.shape[0],\n",
    "    gamma=1, actions=[(0, 1), (1, 0), (-1, 0), (0, -1)], other_rewards=rewards\n",
    ")\n",
    "state_values, policies = gw.policy_iteration(in_place=True, value_iteration=True)\n",
    "print(policies[-1], state_values[-1])\n",
    "opt_path, total_reward = gw.traverse(policies[-1])\n",
    "print(total_reward)"
   ]
  },
  {
   "cell_type": "markdown",
   "metadata": {},
   "source": [
    "# Problem 92: Square digit chains\n",
    "A number chain is created by continuously adding the square of the digits in a number to form a new number until it has been seen before.  \n",
    "For example,  \n",
    "44 → 32 → 13 → 10 → 1 → 1  \n",
    "85 → 89 → 145 → 42 → 20 → 4 → 16 → 37 → 58 → 89  \n",
    "Therefore any chain that arrives at 1 or 89 will become stuck in an endless loop. What is most amazing is that EVERY starting number will eventually arrive at 1 or 89.\n",
    "\n",
    "How many starting numbers below ten million will arrive at 89?"
   ]
  },
  {
   "cell_type": "code",
   "execution_count": 7,
   "metadata": {},
   "outputs": [
    {
     "name": "stderr",
     "output_type": "stream",
     "text": [
      "100%|██████████| 10000000/10000000 [01:12<00:00, 137562.22it/s]\n"
     ]
    },
    {
     "data": {
      "text/plain": [
       "8581146"
      ]
     },
     "execution_count": 7,
     "metadata": {},
     "output_type": "execute_result"
    }
   ],
   "source": [
    "from collections import deque\n",
    "\n",
    "lookup = {1: 1, 89: 89}\n",
    "eightynine = 0\n",
    "squares = dict(zip([f'{i}' for i in range(10)], [i**2 for i in range(10)]))\n",
    "\n",
    "def next_number(n):\n",
    "    return sum(map(lambda x: squares[x], str(n)))\n",
    "\n",
    "seq = deque()\n",
    "for num in tqdm(range(1, int(10e+6) + 1)):\n",
    "    n = num\n",
    "    nn = lookup.get(num)\n",
    "    while not nn:\n",
    "        seq.append(n)\n",
    "        n = next_number(n)\n",
    "        nn = lookup.get(n)         \n",
    "    if nn == 89:\n",
    "        eightynine += 1\n",
    "    while seq:\n",
    "        lookup[seq.pop()] = nn\n",
    "\n",
    "eightynine"
   ]
  },
  {
   "cell_type": "markdown",
   "metadata": {},
   "source": [
    "# Problem 100: Arranged probability\n",
    "If a box contains twenty-one coloured discs, composed of fifteen blue discs and six red discs, and two discs were taken at random, it can be seen that the probability of taking two blue discs, P(BB) = (15/21)×(14/20) = 1/2.\n",
    "\n",
    "The next such arrangement, for which there is exactly 50% chance of taking two blue discs at random, is a box containing eighty-five blue discs and thirty-five red discs.\n",
    "\n",
    "By finding the first arrangement to contain over 10^2 = 1,000,000,000,000 discs in total, determine the number of blue discs that the box would contain."
   ]
  },
  {
   "cell_type": "markdown",
   "metadata": {},
   "source": [
    "We are looking for solutions of type B(B-1)/T(T-1)=1/2 where B denotes number of Blue disks and T is total number of disks in the box. Rearranging the terms we get T^2-T-2B^2+2B=0. We thus need to find the roots of a bivariate quadratic equation. The link provides an efficient algorithm for finding recursive solutions: https://www.alpertron.com.ar/QUAD.HTM. "
   ]
  },
  {
   "cell_type": "code",
   "execution_count": 68,
   "metadata": {},
   "outputs": [
    {
     "data": {
      "text/plain": [
       "756872327473"
      ]
     },
     "execution_count": 68,
     "metadata": {},
     "output_type": "execute_result"
    }
   ],
   "source": [
    "def next_solution(x, y):\n",
    "    return 3*x + 4*y - 3, 2*x + 3*y - 2\n",
    "\n",
    "x, y = 21, 15\n",
    "while x < 10e+11:\n",
    "    x, y = next_solution(x, y)\n",
    "y"
   ]
  }
 ],
 "metadata": {
  "kernelspec": {
   "display_name": "Python 3",
   "language": "python",
   "name": "python3"
  },
  "language_info": {
   "codemirror_mode": {
    "name": "ipython",
    "version": 3
   },
   "file_extension": ".py",
   "mimetype": "text/x-python",
   "name": "python",
   "nbconvert_exporter": "python",
   "pygments_lexer": "ipython3",
   "version": "3.7.1"
  },
  "pycharm": {
   "stem_cell": {
    "cell_type": "raw",
    "metadata": {
     "collapsed": false
    },
    "source": []
   }
  }
 },
 "nbformat": 4,
 "nbformat_minor": 2
}
